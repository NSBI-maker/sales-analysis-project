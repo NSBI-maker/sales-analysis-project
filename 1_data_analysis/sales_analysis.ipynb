{
 "cells": [
  {
   "cell_type": "code",
   "execution_count": null,
   "metadata": {},
   "outputs": [],
   "source": [
    "import pandas as pd\n",
    "import matplotlib.pyplot as plt\n",
    "\n",
    "# Загружаем данные (фиктивные)\n",
    "data = pd.DataFrame({\n",
    "    'Date': pd.date_range(start='2024-01-01', periods=12, freq='M'),\n",
    "    'Sales': [1200, 1500, 1700, 1300, 1800, 2100, 2500, 2300, 2200, 2600, 2800, 3000],\n",
    "    'Region': ['North', 'South', 'East', 'West'] * 3\n",
    "})\n",
    "\n",
    "# Общие продажи по месяцам\n",
    "monthly_sales = data.groupby('Date')['Sales'].sum()\n",
    "plt.figure(figsize=(10, 5))\n",
    "monthly_sales.plot(marker='o')\n",
    "plt.title(\"Monthly Sales Trend\")\n",
    "plt.xlabel(\"Month\")\n",
    "plt.ylabel(\"Sales\")\n",
    "plt.grid(True)\n",
    "plt.show()\n",
    "\n",
    "# Средние продажи по регионам\n",
    "region_sales = data.groupby('Region')['Sales'].mean()\n",
    "print(region_sales)"
   ]
  }
 ],
 "metadata": {
  "kernelspec": {
   "display_name": "Python 3",
   "language": "python",
   "name": "python3"
  },
  "language_info": {
   "name": "python",
   "version": "3.10"
  }
 },
 "nbformat": 4,
 "nbformat_minor": 5
}